{
 "cells": [
  {
   "cell_type": "markdown",
   "id": "d651adb1-12e2-4b19-bf2f-ef18f853ae3b",
   "metadata": {},
   "source": [
    "# Table Extractor Executor\n",
    "\n",
    "This Executor will store each table in `doc.chunks` as a list of strings (for now), which could later be read as a CSV file.\n",
    "\n",
    "## WARNING \n",
    "\n",
    "This notebook sends PDFs to a third-party service (outside of Jina) that has not yet been secured. We are in ongoing discussions with them. **DO NOT use any confidential files with this Executor.**"
   ]
  },
  {
   "cell_type": "markdown",
   "id": "3444b770-daa7-41fa-ac9b-ffbde0fa585b",
   "metadata": {},
   "source": [
    "## PDF Extractor code\n",
    "\n",
    "Python script to upload a PDF to the function called by https://docs2info.com/demo"
   ]
  },
  {
   "cell_type": "code",
   "execution_count": 2,
   "id": "0ca30f48-5b49-49c3-abca-ba963dd3ea9b",
   "metadata": {},
   "outputs": [],
   "source": [
    "import requests as rq  # bc we also need requests decorator from jina\n",
    "import json\n",
    "import sys\n",
    "import csv\n",
    "import os"
   ]
  },
  {
   "cell_type": "code",
   "execution_count": null,
   "id": "79984711-dc69-4c7a-905d-531096b32e46",
   "metadata": {},
   "outputs": [],
   "source": [
    "\"\"\"\n",
    "  Python script to upload a PDF to the function called by https://docs2info.com/demo.\n",
    "\n",
    "  This script has been tested with Python 3.8.5 on a Mac.\n",
    "\n",
    "  Please send problem reports and other feedback to john@docs2info.com\n",
    "\"\"\"\n",
    "\n",
    "HOST = 'https://pdftables-2uqbalu5ya-uw.a.run.app/'\n",
    "URL = HOST + 'upload'\n",
    "OUT_DIR = 'extracted.tables'\n",
    "MIN_WIDTH = 2 # Minimum table width\n",
    "MIN_HEIGHT = 2 # Minimum table height\n",
    "\n",
    "def uploadPDF(path):\n",
    "  \"\"\"\n",
    "    uploadPDF uploads the PDF in path to a table extraction API and returns a dict of extracted\n",
    "\tdata as a JSON string.\n",
    "\n",
    "    The returned JSON dict has keys\n",
    "      'NumberPages': Number of pages in PDF.\n",
    "      'FirstPageProcessed': First page of PDF processed (1 - 'NumberPages').\n",
    "      'LastPageProcessed': Las page of PDF processed (1 - 'NumberPages').\n",
    "      'PageTables': The tables found.\n",
    "    jsonToDoc below converts the JSON to a python dict.\n",
    "  \"\"\"\n",
    "  multiple_files = [('uploaded-file', (path, open(path, 'rb'), 'application/pdf'))]\n",
    "  r = rq.post(URL, files=multiple_files)\n",
    "  if r.status_code != 200:\n",
    "    print(f\"uploadPDF failed. r={r}\")\n",
    "    return None\n",
    "  return r.text\n",
    "\n",
    "def key2int(d, k):\n",
    "  \"\"\"\n",
    "    key2int converts key k in dict d to an int.\n",
    "  \"\"\"\n",
    "  d[int(k)] = d[k]\n",
    "  del d[k]\n",
    "\n",
    "def val2int(d, k):\n",
    "  \"\"\"\n",
    "    val2int converts d[k] to an int.\n",
    "  \"\"\"\n",
    "  d[k] = int(d[k])\n",
    "\n",
    "def jsonToDoc(text):\n",
    "  \"\"\"\n",
    "    jsonToDoc converts json string text to a dict describing extracted tables.\n",
    "  \"\"\"\n",
    "  doc = json.loads(text)\n",
    "  for k in ('NumberPages', 'FirstPageProcessed', 'LastPageProcessed'):\n",
    "    val2int(doc, k)\n",
    "  for k in list(doc['PageTables'].keys()):\n",
    "    key2int(doc['PageTables'], k)\n",
    "  for k in list(doc['PageTables'].keys()):\n",
    "    for i in range(len(doc['PageTables'][k])):\n",
    "      val2int(doc['PageTables'][k][i], 'Width')\n",
    "      val2int(doc['PageTables'][k][i], 'Height')\n",
    "  return doc\n",
    "\n",
    "def makeOutRoot(out_dir, in_path):\n",
    "   \"\"\"\n",
    "     makeOutRoot returns a path in directory out_dir with same base name as in_path.\n",
    "   \"\"\"\n",
    "   name = os.path.basename(in_path)\n",
    "   name, _ = os.path.splitext(name)\n",
    "   return os.path.join(out_dir, name)\n",
    "\n",
    "def writeCsvs(out_root, doc, min_width, min_height):\n",
    "  \"\"\"\n",
    "    writeCsvs writes the tables in dict doc to CSV files with names starting with out_root.\n",
    "    min_width is the minimum table width.\n",
    "    min_height is the minimum table height.\n",
    "  \"\"\"\n",
    "  doc_tables = doc['PageTables']\n",
    "  for page_num in sorted(doc_tables.keys()):\n",
    "    page_tables = doc_tables[page_num]\n",
    "    table_num = 1\n",
    "    for table in page_tables:\n",
    "      width = table['Width']\n",
    "      height = table['Height']\n",
    "      if width < min_width or height < min_height:\n",
    "       continue\n",
    "      out_path = f'{out_root}.page{page_num:03d}.table{table_num:03d}.csv'\n",
    "      data = table['Data']\n",
    "      with open(out_path, 'w') as f:\n",
    "        writer = csv.writer(f)\n",
    "        for row in data:\n",
    "          writer.writerow(row)\n",
    "      print(f\"Wrote a {width:2d} x {height:2d} table to '{out_path}'\")\n",
    "      table_num += 1\n",
    "        \n",
    "\n",
    "\n",
    "# if len(sys.argv) < 2:\n",
    "#   print(\"Usage: python extract_tables.py <PDF path>\")\n",
    "#   exit(1)\n",
    "os.makedirs(OUT_DIR, exist_ok=True)\n",
    "# for in_path in sys.argv[1:]:\n",
    "#   text = uploadPDF(in_path)\n",
    "#   if not text:\n",
    "#      continue\n",
    "#   doc = jsonToDoc(text)\n",
    "#   out_root = makeOutRoot(OUT_DIR, in_path)\n",
    "#   writeCsvs(out_root, doc, MIN_WIDTH, MIN_HEIGHT)\n"
   ]
  },
  {
   "cell_type": "code",
   "execution_count": null,
   "id": "c3f281bf-4347-40c7-a65a-869e425f2ba1",
   "metadata": {},
   "outputs": [],
   "source": [
    "def get_csv_data(doc, min_width, min_height):\n",
    "  \"\"\"\n",
    "    writeCsvs writes the tables in dict doc to CSV files with names starting with out_root.\n",
    "    min_width is the minimum table width.\n",
    "    min_height is the minimum table height.\n",
    "  \"\"\"\n",
    "  table_data = []\n",
    "  doc_tables = doc['PageTables']\n",
    "  for page_num in sorted(doc_tables.keys()):\n",
    "    print(page_num)\n",
    "    page_tables = doc_tables[page_num]\n",
    "    table_num = 1\n",
    "    for table in page_tables:\n",
    "      width = table['Width']\n",
    "      height = table['Height']\n",
    "      if width < min_width or height < min_height:\n",
    "       continue\n",
    "      # out_path = f'{out_root}.page{page_num:03d}.table{table_num:03d}.csv'\n",
    "      data = table['Data']\n",
    "      table_data.append(data)\n",
    "      table_num += 1\n",
    "      \n",
    "  return table_data"
   ]
  },
  {
   "cell_type": "markdown",
   "id": "47612167-28cd-44c8-8141-6932f87e8f24",
   "metadata": {},
   "source": [
    "## Create Jina Executor"
   ]
  },
  {
   "cell_type": "code",
   "execution_count": null,
   "id": "ac20688f-b499-4dde-920b-e65a536313ed",
   "metadata": {},
   "outputs": [],
   "source": [
    "!pip install -qq jina"
   ]
  },
  {
   "cell_type": "code",
   "execution_count": null,
   "id": "ea6a6231-866d-40f7-93c2-c0a3af2bdb32",
   "metadata": {},
   "outputs": [],
   "source": [
    "from jina import Executor, requests"
   ]
  },
  {
   "cell_type": "code",
   "execution_count": null,
   "id": "485cfda0-42a1-421d-94b3-5ad95b4a3ff9",
   "metadata": {
    "tags": []
   },
   "outputs": [],
   "source": [
    "class TableExtractor(Executor):\n",
    "    @requests\n",
    "    def extract_tables(self, docs, **kwargs):\n",
    "        for doc in docs:\n",
    "            text = uploadPDF(doc.uri)\n",
    "            json_doc = jsonToDoc(text)\n",
    "            table_data = get_csv_data(json_doc, MIN_WIDTH, MIN_HEIGHT)\n",
    "            \n",
    "            for table in table_data:     \n",
    "                doc.chunks.append(Document(text=table_data))"
   ]
  },
  {
   "cell_type": "markdown",
   "id": "5cb7eed8-9928-49ed-9c28-ae6bc663c0e9",
   "metadata": {},
   "source": [
    "## Testing"
   ]
  },
  {
   "cell_type": "markdown",
   "id": "df1f0539-664a-4360-a374-8c27a7e44c7f",
   "metadata": {},
   "source": [
    "### Download data"
   ]
  },
  {
   "cell_type": "code",
   "execution_count": 6,
   "id": "195491f7-0750-4475-af24-bca0d9d2eb75",
   "metadata": {},
   "outputs": [],
   "source": [
    "urls = [\"https://arxiv.org/pdf/2203.09974.pdf\"]\n",
    "data_dir = \"data\"\n",
    "\n",
    "if not os.path.isdir(data_dir):\n",
    "    os.makedirs(data_dir)\n",
    "\n",
    "for url in urls:\n",
    "    filename = f\"{data_dir}/{url.split('/')[-1]}\"\n",
    "    r = rq.get(url, allow_redirects=True)\n",
    "    \n",
    "    with open(filename, \"wb\") as file:\n",
    "        file.write(r.content)"
   ]
  },
  {
   "cell_type": "markdown",
   "id": "530e9db8-4143-493a-9fb8-5222c4414d1b",
   "metadata": {},
   "source": [
    "### Test Executor"
   ]
  },
  {
   "cell_type": "code",
   "execution_count": null,
   "id": "7d17b589-b259-428b-898a-155f4024379c",
   "metadata": {
    "tags": []
   },
   "outputs": [],
   "source": [
    "from docarray import DocumentArray, Document"
   ]
  },
  {
   "cell_type": "code",
   "execution_count": null,
   "id": "b8d9ac2a-18a4-46ab-b369-a7a53695935e",
   "metadata": {},
   "outputs": [],
   "source": [
    "docs = DocumentArray.from_files(\"data/*.pdf\")"
   ]
  },
  {
   "cell_type": "code",
   "execution_count": null,
   "id": "878e6912-020c-4aa5-a765-d3c04784b3f4",
   "metadata": {},
   "outputs": [],
   "source": [
    "ex = TableExtractor()"
   ]
  },
  {
   "cell_type": "code",
   "execution_count": null,
   "id": "87889eaf-8e58-4b3b-b9cd-2e345f47fa49",
   "metadata": {},
   "outputs": [],
   "source": [
    "ex.extract_tables(docs)"
   ]
  },
  {
   "cell_type": "markdown",
   "id": "9a9f00e4-28e7-4e23-adab-53cb76081971",
   "metadata": {},
   "source": [
    "### See results"
   ]
  },
  {
   "cell_type": "code",
   "execution_count": null,
   "id": "edc660d0-fb25-471f-bed5-18df11b98a8a",
   "metadata": {},
   "outputs": [],
   "source": [
    "docs[0].chunks"
   ]
  },
  {
   "cell_type": "code",
   "execution_count": null,
   "id": "ea41e4a2-0594-48ac-a4e6-a15e4d054365",
   "metadata": {},
   "outputs": [],
   "source": [
    "from pprint import pprint"
   ]
  },
  {
   "cell_type": "code",
   "execution_count": null,
   "id": "f61d58f1-26b8-4ef8-aacd-9fcd85d1eab1",
   "metadata": {},
   "outputs": [],
   "source": [
    "for chunk in docs[0].chunks:\n",
    "    pprint(chunk.text)"
   ]
  }
 ],
 "metadata": {
  "kernelspec": {
   "display_name": "Python 3",
   "language": "python",
   "name": "python3"
  },
  "language_info": {
   "codemirror_mode": {
    "name": "ipython",
    "version": 3
   },
   "file_extension": ".py",
   "mimetype": "text/x-python",
   "name": "python",
   "nbconvert_exporter": "python",
   "pygments_lexer": "ipython3",
   "version": "3.9.13"
  }
 },
 "nbformat": 4,
 "nbformat_minor": 5
}
