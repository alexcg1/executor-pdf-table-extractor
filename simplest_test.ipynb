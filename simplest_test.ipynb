{
 "cells": [
  {
   "cell_type": "markdown",
   "id": "d651adb1-12e2-4b19-bf2f-ef18f853ae3b",
   "metadata": {},
   "source": [
    "# Table Extractor Executor\n",
    "\n",
    "This Executor will store each table in `doc.chunks` as a list of strings (for now), which could later be read as a CSV file.\n",
    "\n",
    "## WARNING \n",
    "\n",
    "This notebook sends PDFs to a third-party service (outside of Jina) that has not yet been secured. We are in ongoing discussions with them. **DO NOT use any confidential files with this Executor.**"
   ]
  },
  {
   "cell_type": "markdown",
   "id": "5cb7eed8-9928-49ed-9c28-ae6bc663c0e9",
   "metadata": {},
   "source": [
    "## Testing"
   ]
  },
  {
   "cell_type": "markdown",
   "id": "df1f0539-664a-4360-a374-8c27a7e44c7f",
   "metadata": {},
   "source": [
    "### Download data"
   ]
  },
  {
   "cell_type": "code",
   "execution_count": null,
   "id": "195491f7-0750-4475-af24-bca0d9d2eb75",
   "metadata": {},
   "outputs": [],
   "source": [
    "urls = [\"https://arxiv.org/pdf/2203.09974.pdf\"]\n",
    "data_dir = \"data\"\n",
    "\n",
    "os.makedirs(data_dir, exist_ok=True)\n",
    "\n",
    "for url in urls:\n",
    "    filename = f\"{data_dir}/{url.split('/')[-1]}\"\n",
    "    if not os.path.isfile(filename):\n",
    "        r = rq.get(url, allow_redirects=True)\n",
    "\n",
    "        with open(filename, \"wb\") as file:\n",
    "            file.write(r.content)"
   ]
  },
  {
   "cell_type": "markdown",
   "id": "530e9db8-4143-493a-9fb8-5222c4414d1b",
   "metadata": {},
   "source": [
    "### Test Executor"
   ]
  },
  {
   "cell_type": "code",
   "execution_count": 1,
   "id": "7d17b589-b259-428b-898a-155f4024379c",
   "metadata": {
    "tags": []
   },
   "outputs": [],
   "source": [
    "from docarray import DocumentArray, Document"
   ]
  },
  {
   "cell_type": "code",
   "execution_count": 2,
   "id": "b8d9ac2a-18a4-46ab-b369-a7a53695935e",
   "metadata": {},
   "outputs": [],
   "source": [
    "docs = DocumentArray.from_files(\"data/*.pdf\")"
   ]
  },
  {
   "cell_type": "code",
   "execution_count": 3,
   "id": "d9d04d55-7f59-40d3-9828-1a7857df6313",
   "metadata": {},
   "outputs": [],
   "source": [
    "from executor import TableExtractor"
   ]
  },
  {
   "cell_type": "code",
   "execution_count": 4,
   "id": "878e6912-020c-4aa5-a765-d3c04784b3f4",
   "metadata": {},
   "outputs": [],
   "source": [
    "ex = TableExtractor()"
   ]
  },
  {
   "cell_type": "code",
   "execution_count": 5,
   "id": "15f406d2-ff97-43bf-82e5-dc7e24d81e3d",
   "metadata": {},
   "outputs": [],
   "source": [
    "!rm -rf extracted.tables"
   ]
  },
  {
   "cell_type": "code",
   "execution_count": 6,
   "id": "87889eaf-8e58-4b3b-b9cd-2e345f47fa49",
   "metadata": {},
   "outputs": [],
   "source": [
    "ex.extract_tables(docs)"
   ]
  },
  {
   "cell_type": "markdown",
   "id": "9a9f00e4-28e7-4e23-adab-53cb76081971",
   "metadata": {},
   "source": [
    "### See results"
   ]
  },
  {
   "cell_type": "code",
   "execution_count": 7,
   "id": "edc660d0-fb25-471f-bed5-18df11b98a8a",
   "metadata": {},
   "outputs": [
    {
     "data": {
      "text/html": [
       "<pre style=\"white-space:pre;overflow-x:auto;line-height:normal;font-family:Menlo,'DejaVu Sans Mono',consolas,'Courier New',monospace\">📄 <span style=\"font-weight: bold\">Document</span>: <span style=\"color: #008080; text-decoration-color: #008080\">965f3ad50432d58cad30cfe52ae02b3a</span>\n",
       "╭───────────────────┬──────────────────────────────────────────────────────────╮\n",
       "│<span style=\"font-weight: bold\"> Attribute         </span>│<span style=\"font-weight: bold\"> Value                                                    </span>│\n",
       "├───────────────────┼──────────────────────────────────────────────────────────┤\n",
       "│ parent_id         │ c8dc43f5d8cc9c5f060995da8c0bd99c                         │\n",
       "│ granularity       │ <span style=\"color: #008080; text-decoration-color: #008080; font-weight: bold\">1</span>                                                        │\n",
       "│ text              │ Synthesis hyperparameter,Sampling range                  │\n",
       "│                   │ Affine translation,<span style=\"color: #008080; text-decoration-color: #008080; font-weight: bold\">0</span>–<span style=\"color: #008080; text-decoration-color: #008080; font-weight: bold\">50</span> mm                               │\n",
       "│                   │ Affine rotation,<span style=\"color: #008080; text-decoration-color: #008080; font-weight: bold\">0</span>–<span style=\"color: #008080; text-decoration-color: #008080; font-weight: bold\">45</span>◦                                    │\n",
       "│                   │ Affine scal<span style=\"color: #808000; text-decoration-color: #808000\">...</span> <span style=\"color: #7f7f7f; text-decoration-color: #7f7f7f; font-weight: bold\">(</span><span style=\"color: #7f7f7f; text-decoration-color: #7f7f7f\">length: </span><span style=\"color: #7fbfbf; text-decoration-color: #7fbfbf; font-weight: bold\">375</span><span style=\"color: #7f7f7f; text-decoration-color: #7f7f7f; font-weight: bold\">)</span>                             │\n",
       "╰───────────────────┴──────────────────────────────────────────────────────────╯\n",
       "</pre>\n"
      ],
      "text/plain": [
       "📄 \u001b[1mDocument\u001b[0m: \u001b[36m965f3ad50432d58cad30cfe52ae02b3a\u001b[0m\n",
       "╭───────────────────┬──────────────────────────────────────────────────────────╮\n",
       "│\u001b[1m \u001b[0m\u001b[1mAttribute        \u001b[0m\u001b[1m \u001b[0m│\u001b[1m \u001b[0m\u001b[1mValue                                                   \u001b[0m\u001b[1m \u001b[0m│\n",
       "├───────────────────┼──────────────────────────────────────────────────────────┤\n",
       "│ parent_id         │ c8dc43f5d8cc9c5f060995da8c0bd99c                         │\n",
       "│ granularity       │ \u001b[1;36m1\u001b[0m                                                        │\n",
       "│ text              │ Synthesis hyperparameter,Sampling range                  │\n",
       "│                   │ Affine translation,\u001b[1;36m0\u001b[0m–\u001b[1;36m50\u001b[0m mm                               │\n",
       "│                   │ Affine rotation,\u001b[1;36m0\u001b[0m–\u001b[1;36m45\u001b[0m◦                                    │\n",
       "│                   │ Affine scal\u001b[33m...\u001b[0m \u001b[1;2m(\u001b[0m\u001b[2mlength: \u001b[0m\u001b[1;2;36m375\u001b[0m\u001b[1;2m)\u001b[0m                             │\n",
       "╰───────────────────┴──────────────────────────────────────────────────────────╯\n"
      ]
     },
     "metadata": {},
     "output_type": "display_data"
    }
   ],
   "source": [
    "docs[0].chunks[0]"
   ]
  },
  {
   "cell_type": "code",
   "execution_count": null,
   "id": "d67c0594-bd49-43f5-9115-310dae4ae0d8",
   "metadata": {},
   "outputs": [],
   "source": [
    "!pip install pandas"
   ]
  },
  {
   "cell_type": "code",
   "execution_count": null,
   "id": "1b106d08-8d34-4336-8ed5-fbb109eeeb29",
   "metadata": {},
   "outputs": [],
   "source": [
    "with open(\"test.csv\", \"w\") as file:\n",
    "    file.write(docs[0].chunks[0].text) # open this file in your notebook - you'll see it's cleanly formatted table"
   ]
  }
 ],
 "metadata": {
  "kernelspec": {
   "display_name": "Python 3",
   "language": "python",
   "name": "python3"
  },
  "language_info": {
   "codemirror_mode": {
    "name": "ipython",
    "version": 3
   },
   "file_extension": ".py",
   "mimetype": "text/x-python",
   "name": "python",
   "nbconvert_exporter": "python",
   "pygments_lexer": "ipython3",
   "version": "3.9.13"
  }
 },
 "nbformat": 4,
 "nbformat_minor": 5
}
